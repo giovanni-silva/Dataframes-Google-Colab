{
  "nbformat": 4,
  "nbformat_minor": 0,
  "metadata": {
    "colab": {
      "provenance": [],
      "mount_file_id": "18bxuT7VxQvRodCxHjL5vwtfTVhpc2V4f",
      "authorship_tag": "ABX9TyM/xy1/k+aC0CFRMAB1eRZH",
      "include_colab_link": true
    },
    "kernelspec": {
      "name": "python3",
      "display_name": "Python 3"
    },
    "language_info": {
      "name": "python"
    }
  },
  "cells": [
    {
      "cell_type": "markdown",
      "metadata": {
        "id": "view-in-github",
        "colab_type": "text"
      },
      "source": [
        "<a href=\"https://colab.research.google.com/github/giovanni-silva/Dataframes-Google-Colab/blob/main/DataframesDrive.ipynb\" target=\"_parent\"><img src=\"https://colab.research.google.com/assets/colab-badge.svg\" alt=\"Open In Colab\"/></a>"
      ]
    },
    {
      "cell_type": "code",
      "execution_count": null,
      "metadata": {
        "id": "x8f4qx1sU9jT"
      },
      "outputs": [],
      "source": []
    },
    {
      "cell_type": "markdown",
      "source": [],
      "metadata": {
        "id": "VlnvSFp9VEyZ"
      }
    },
    {
      "cell_type": "code",
      "source": [
        "import pandas as pd\n",
        "\n",
        "# Carregar os conjuntos de dados\n",
        "df_tarefas_1 = pd.read_csv(\"../content/Dataframes-Google-Colab/dados_tarefas_1.csv\", delimiter=';')\n",
        "df_tarefas_2 = pd.read_csv(\"../content/Dataframes-Google-Colab/dados_tarefas_2.csv\", delimiter=';')\n",
        "\n",
        "# Verificar se os dataframes foram carregados corretamente\n",
        "if df_tarefas_1.empty or df_tarefas_2.empty:\n",
        "    print(\"Erro: Um ou ambos os dataframes estão vazios. Verifique se os arquivos foram carregados corretamente.\")\n",
        "else:\n",
        "    # Verificar se as colunas esperadas estão presentes nos dataframes\n",
        "    if 'Status' not in df_tarefas_1.columns or 'Status' not in df_tarefas_2.columns:\n",
        "        print(\"Erro: Uma ou ambas as colunas 'Status' não foram encontradas nos dataframes.\")\n",
        "    else:\n",
        "        # Concatenar os dataframes\n",
        "        df_tarefas_concatenado = pd.concat([df_tarefas_1, df_tarefas_2], ignore_index=True)\n",
        "\n",
        "        # Exibir os dataframes originais\n",
        "        print(\"### Primeiro DataFrame de Tarefas ###\")\n",
        "        print(df_tarefas_1)\n",
        "\n",
        "        print(\"\\n### Segundo DataFrame de Tarefas ###\")\n",
        "        print(df_tarefas_2)\n",
        "\n",
        "        # Exibir o dataframe concatenado\n",
        "        print(\"\\n### DataFrame Concatenado ###\")\n",
        "        print(df_tarefas_concatenado)\n",
        "\n",
        "        # Filtrando tarefas pendentes\n",
        "        tarefas_pendentes = df_tarefas_concatenado[df_tarefas_concatenado['Status'] == 'Pendente']\n",
        "\n",
        "        # Ordenando tarefas por prioridade\n",
        "        tarefas_ordenadas = df_tarefas_concatenado.sort_values(by='Prioridade', ascending=False)\n",
        "\n",
        "        # Contando o número de tarefas concluídas\n",
        "        num_tarefas_concluidas = df_tarefas_concatenado[df_tarefas_concatenado['Status'] == 'Concluída'].shape[0]\n",
        "\n",
        "        # Preenchendo valores ausentes na coluna \"Data de Conclusão\" com uma data padrão\n",
        "        df_tarefas_concatenado['Data de Conclusão'].fillna('Sem data', inplace=True)\n",
        "\n",
        "        # Exibindo o dataframe concatenado após as  transformações\n",
        "        print(\"\\n### DataFrame Concatenado Após Transformações ###\")\n",
        "        print(df_tarefas_concatenado)\n",
        "\n",
        "        # Exibindo resultados das consultas\n",
        "        print(\"\\n### Consultas sobre os Dados ###\")\n",
        "        print(\"1. Tarefas Pendentes:\")\n",
        "        print(tarefas_pendentes)\n",
        "        print(\"\\n2. Tarefa Mais Prioritária:\")\n",
        "        print(tarefas_ordenadas.iloc[0])\n",
        "        print(\"\\n3. Número de Tarefas Concluídas:\", num_tarefas_concluidas)\n",
        "        print(\"\\n4. Tarefas com Data de Conclusão Definida:\")\n",
        "        print(df_tarefas_concatenado[df_tarefas_concatenado['Data de Conclusão'] != 'Sem data'])\n",
        "        print(\"\\n5. Data Mais Recente de Conclusão:\", df_tarefas_concatenado['Data de Conclusão'].max())\n",
        "\n",
        "        # Salvando o dataframe final em um arquivo CSV\n",
        "        df_tarefas_concatenado.to_csv('../content/Dataframes-Google-Colab/dados_tarefas_final.csv', index=False)\n",
        "        print(\"\\n### Dados Finais Salvos em dados_tarefas_final.csv ###\")\n"
      ],
      "metadata": {
        "colab": {
          "base_uri": "https://localhost:8080/"
        },
        "id": "OdY_-VrqVFAn",
        "outputId": "ac53fd14-cade-4f92-df32-5799fce785c0"
      },
      "execution_count": 3,
      "outputs": [
        {
          "output_type": "stream",
          "name": "stdout",
          "text": [
            "### Primeiro DataFrame de Tarefas ###\n",
            "                               Descrição Prioridade        Status  \\\n",
            "0   \\nEstudar para o exame de matemática       Alta      Pendente   \n",
            "1          Fazer compras no supermercado      Média      Pendente   \n",
            "2  Preparar apresentação para o trabalho       Alta  Em Andamento   \n",
            "3       Ligar para o serviço de internet      Baixa     Concluída   \n",
            "\n",
            "  Data de Conclusão  \n",
            "0               NaN  \n",
            "1               NaN  \n",
            "2        15/04/2024  \n",
            "3        10/04/2024  \n",
            "\n",
            "### Segundo DataFrame de Tarefas ###\n",
            "                          Descrição Prioridade        Status Data de Conclusão\n",
            "0                     Limpar a casa      Média      Pendente               NaN\n",
            "1  Estudar para o exame de história       Alta  Em Andamento        20/04/2024\n",
            "2                     Ir à academia       Alta      Pendente               NaN\n",
            "\n",
            "### DataFrame Concatenado ###\n",
            "                               Descrição Prioridade        Status  \\\n",
            "0   \\nEstudar para o exame de matemática       Alta      Pendente   \n",
            "1          Fazer compras no supermercado      Média      Pendente   \n",
            "2  Preparar apresentação para o trabalho       Alta  Em Andamento   \n",
            "3       Ligar para o serviço de internet      Baixa     Concluída   \n",
            "4                          Limpar a casa      Média      Pendente   \n",
            "5       Estudar para o exame de história       Alta  Em Andamento   \n",
            "6                          Ir à academia       Alta      Pendente   \n",
            "\n",
            "  Data de Conclusão  \n",
            "0               NaN  \n",
            "1               NaN  \n",
            "2        15/04/2024  \n",
            "3        10/04/2024  \n",
            "4               NaN  \n",
            "5        20/04/2024  \n",
            "6               NaN  \n",
            "\n",
            "### DataFrame Concatenado Após Transformações ###\n",
            "                               Descrição Prioridade        Status  \\\n",
            "0   \\nEstudar para o exame de matemática       Alta      Pendente   \n",
            "1          Fazer compras no supermercado      Média      Pendente   \n",
            "2  Preparar apresentação para o trabalho       Alta  Em Andamento   \n",
            "3       Ligar para o serviço de internet      Baixa     Concluída   \n",
            "4                          Limpar a casa      Média      Pendente   \n",
            "5       Estudar para o exame de história       Alta  Em Andamento   \n",
            "6                          Ir à academia       Alta      Pendente   \n",
            "\n",
            "  Data de Conclusão  \n",
            "0          Sem data  \n",
            "1          Sem data  \n",
            "2        15/04/2024  \n",
            "3        10/04/2024  \n",
            "4          Sem data  \n",
            "5        20/04/2024  \n",
            "6          Sem data  \n",
            "\n",
            "### Consultas sobre os Dados ###\n",
            "1. Tarefas Pendentes:\n",
            "                              Descrição Prioridade    Status Data de Conclusão\n",
            "0  \\nEstudar para o exame de matemática       Alta  Pendente               NaN\n",
            "1         Fazer compras no supermercado      Média  Pendente               NaN\n",
            "4                         Limpar a casa      Média  Pendente               NaN\n",
            "6                         Ir à academia       Alta  Pendente               NaN\n",
            "\n",
            "2. Tarefa Mais Prioritária:\n",
            "Descrição            Fazer compras no supermercado\n",
            "Prioridade                                   Média\n",
            "Status                                    Pendente\n",
            "Data de Conclusão                              NaN\n",
            "Name: 1, dtype: object\n",
            "\n",
            "3. Número de Tarefas Concluídas: 1\n",
            "\n",
            "4. Tarefas com Data de Conclusão Definida:\n",
            "                               Descrição Prioridade        Status  \\\n",
            "2  Preparar apresentação para o trabalho       Alta  Em Andamento   \n",
            "3       Ligar para o serviço de internet      Baixa     Concluída   \n",
            "5       Estudar para o exame de história       Alta  Em Andamento   \n",
            "\n",
            "  Data de Conclusão  \n",
            "2        15/04/2024  \n",
            "3        10/04/2024  \n",
            "5        20/04/2024  \n",
            "\n",
            "5. Data Mais Recente de Conclusão: Sem data\n",
            "\n",
            "### Dados Finais Salvos em dados_tarefas_final.csv ###\n"
          ]
        }
      ]
    },
    {
      "cell_type": "code",
      "source": [
        "%shell\n",
        "\n",
        "!git clone https://github.com/giovanni-silva/Dataframes-Google-Colab\n",
        "\n"
      ],
      "metadata": {
        "colab": {
          "base_uri": "https://localhost:8080/"
        },
        "id": "Kje5H1AOvtYx",
        "outputId": "ca16ad27-98c2-4412-ad91-660211fad74a"
      },
      "execution_count": 2,
      "outputs": [
        {
          "output_type": "stream",
          "name": "stdout",
          "text": [
            "Cloning into 'Dataframes-Google-Colab'...\n",
            "remote: Enumerating objects: 13, done.\u001b[K\n",
            "remote: Counting objects: 100% (13/13), done.\u001b[K\n",
            "remote: Compressing objects: 100% (11/11), done.\u001b[K\n",
            "remote: Total 13 (delta 4), reused 0 (delta 0), pack-reused 0\u001b[K\n",
            "Receiving objects: 100% (13/13), 7.03 KiB | 7.03 MiB/s, done.\n",
            "Resolving deltas: 100% (4/4), done.\n"
          ]
        }
      ]
    },
    {
      "cell_type": "code",
      "source": [],
      "metadata": {
        "id": "8hKZQJVVYRcg"
      },
      "execution_count": null,
      "outputs": []
    }
  ]
}